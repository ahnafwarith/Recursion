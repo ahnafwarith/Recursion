{
  "nbformat": 4,
  "nbformat_minor": 0,
  "metadata": {
    "colab": {
      "provenance": [],
      "authorship_tag": "ABX9TyPkAP3zjr8rTQV7kKKmef03",
      "include_colab_link": true
    },
    "kernelspec": {
      "name": "python3",
      "display_name": "Python 3"
    },
    "language_info": {
      "name": "python"
    }
  },
  "cells": [
    {
      "cell_type": "markdown",
      "metadata": {
        "id": "view-in-github",
        "colab_type": "text"
      },
      "source": [
        "<a href=\"https://colab.research.google.com/github/ahnafwarith/Recursion/blob/main/Recursion.ipynb\" target=\"_parent\"><img src=\"https://colab.research.google.com/assets/colab-badge.svg\" alt=\"Open In Colab\"/></a>"
      ]
    },
    {
      "cell_type": "code",
      "execution_count": 1,
      "metadata": {
        "colab": {
          "base_uri": "https://localhost:8080/"
        },
        "id": "rTTRcfeudr3t",
        "outputId": "948d0ebb-986e-4839-adcb-45d1cfaf0974"
      },
      "outputs": [
        {
          "output_type": "stream",
          "name": "stdout",
          "text": [
            "hello\n",
            "hello\n",
            "hello\n",
            "hello\n",
            "hello\n",
            "hello\n",
            "hello\n",
            "hello\n",
            "hello\n",
            "hello\n"
          ]
        }
      ],
      "source": [
        "def printHello10X(n):\n",
        "  if n==10:\n",
        "    return\n",
        "  else:\n",
        "    print('hello')\n",
        "    printHello10X(n+1)\n",
        "printHello10X(0)"
      ]
    },
    {
      "cell_type": "code",
      "source": [
        "# Given a non-negative int n, return the sum of its digits recursively (no loops). Note that mod (%)\n",
        "# by 10 yields the rightmost digit (126 % 10 is 6), while divide (/) by 10 removes the rightmost digit\n",
        "# (126 / 10 is 12).\n",
        "\n",
        "def sumS(n):\n",
        "  if n/10 < 1:\n",
        "    return int(n)\n",
        "  else:\n",
        "    return n%10 + sumS(n//10)\n",
        "\n",
        "sumS(49)"
      ],
      "metadata": {
        "colab": {
          "base_uri": "https://localhost:8080/"
        },
        "id": "D2OnJegPmezU",
        "outputId": "7aefaaff-0f8f-4946-ed1e-2d8b08be003f"
      },
      "execution_count": 8,
      "outputs": [
        {
          "output_type": "execute_result",
          "data": {
            "text/plain": [
              "13"
            ]
          },
          "metadata": {},
          "execution_count": 8
        }
      ]
    },
    {
      "cell_type": "code",
      "source": [
        "# We have bunnies standing in a line, numbered 1, 2, ... The odd bunnies (1, 3, ..) have the\n",
        "# normal 2 ears. The even bunnies (2, 4, ..) we'll say have 3 ears, because they each have a\n",
        "# raised foot. Recursively return the number of \"ears\" in the bunny line 1, 2, ... n (without loops or\n",
        "# multiplication).\n",
        "\n",
        "def bunnies(n):\n",
        "  if n==0:\n",
        "    return 0\n",
        "  else:\n",
        "    if n%2==0:\n",
        "      return 3 + bunnies(n-1)\n",
        "    else:\n",
        "      return 2 + bunnies(n-1)"
      ],
      "metadata": {
        "colab": {
          "base_uri": "https://localhost:8080/"
        },
        "id": "-a2ikjC1o8zu",
        "outputId": "f8c155eb-be3a-48a8-c9c7-59c8492c6a30"
      },
      "execution_count": 13,
      "outputs": [
        {
          "output_type": "execute_result",
          "data": {
            "text/plain": [
              "10"
            ]
          },
          "metadata": {},
          "execution_count": 13
        }
      ]
    },
    {
      "cell_type": "code",
      "source": [
        "# Given a non-negative int n, return the count of the occurrences of 7 as a digit, so for example\n",
        "# 717 yields 2. (no loops). Note that mod (%) by 10 yields the rightmost digit (126 % 10 is 6),\n",
        "# while divide (/) by 10 removes the rightmost digit (126 / 10 is 12).\n",
        "\n",
        "def count7(n):\n",
        "  if n//10<1:\n",
        "    if n/10 == 0.7:\n",
        "      return 1\n",
        "    else:\n",
        "      return 0\n",
        "  else:\n",
        "    if n%10==7:\n",
        "      return 1 + count7(n//10)\n",
        "    else:\n",
        "      return 0 + count7(n//10)"
      ],
      "metadata": {
        "colab": {
          "base_uri": "https://localhost:8080/"
        },
        "id": "bn6EFyMhqETx",
        "outputId": "e969c465-102b-4ae7-957b-2df2673a3b28"
      },
      "execution_count": 23,
      "outputs": [
        {
          "output_type": "execute_result",
          "data": {
            "text/plain": [
              "1"
            ]
          },
          "metadata": {},
          "execution_count": 23
        }
      ]
    },
    {
      "cell_type": "code",
      "source": [],
      "metadata": {
        "id": "Q8BoPAmsrZgv"
      },
      "execution_count": null,
      "outputs": []
    }
  ]
}